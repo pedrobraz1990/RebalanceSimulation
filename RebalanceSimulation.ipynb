{
 "cells": [
  {
   "cell_type": "code",
   "execution_count": 1,
   "metadata": {
    "collapsed": true
   },
   "outputs": [],
   "source": [
    "%matplotlib inline\n",
    "import pandas as pd"
   ]
  },
  {
   "cell_type": "markdown",
   "metadata": {},
   "source": [
    "# Load Data"
   ]
  },
  {
   "cell_type": "code",
   "execution_count": 2,
   "metadata": {
    "collapsed": false
   },
   "outputs": [
    {
     "data": {
      "text/html": [
       "<div>\n",
       "<table border=\"1\" class=\"dataframe\">\n",
       "  <thead>\n",
       "    <tr style=\"text-align: right;\">\n",
       "      <th></th>\n",
       "      <th>CDIAnnual</th>\n",
       "      <th>Master</th>\n",
       "    </tr>\n",
       "    <tr>\n",
       "      <th>Date</th>\n",
       "      <th></th>\n",
       "      <th></th>\n",
       "    </tr>\n",
       "  </thead>\n",
       "  <tbody>\n",
       "    <tr>\n",
       "      <th>2012-02-29</th>\n",
       "      <td>0.0000</td>\n",
       "      <td>0.000000</td>\n",
       "    </tr>\n",
       "    <tr>\n",
       "      <th>2012-03-01</th>\n",
       "      <td>0.1027</td>\n",
       "      <td>-0.003936</td>\n",
       "    </tr>\n",
       "    <tr>\n",
       "      <th>2012-03-02</th>\n",
       "      <td>0.1027</td>\n",
       "      <td>0.009299</td>\n",
       "    </tr>\n",
       "    <tr>\n",
       "      <th>2012-03-05</th>\n",
       "      <td>0.1026</td>\n",
       "      <td>0.004825</td>\n",
       "    </tr>\n",
       "    <tr>\n",
       "      <th>2012-03-06</th>\n",
       "      <td>0.1026</td>\n",
       "      <td>-0.005493</td>\n",
       "    </tr>\n",
       "  </tbody>\n",
       "</table>\n",
       "</div>"
      ],
      "text/plain": [
       "            CDIAnnual    Master\n",
       "Date                           \n",
       "2012-02-29     0.0000  0.000000\n",
       "2012-03-01     0.1027 -0.003936\n",
       "2012-03-02     0.1027  0.009299\n",
       "2012-03-05     0.1026  0.004825\n",
       "2012-03-06     0.1026 -0.005493"
      ]
     },
     "execution_count": 2,
     "metadata": {},
     "output_type": "execute_result"
    }
   ],
   "source": [
    "returns = pd.read_csv('Inputs.csv')\n",
    "returns['Date'] = pd.to_datetime(returns['Date'])\n",
    "returns.set_index('Date',inplace=True)\n",
    "returns.head()"
   ]
  },
  {
   "cell_type": "markdown",
   "metadata": {},
   "source": [
    "# Simulation Parameters\n"
   ]
  },
  {
   "cell_type": "code",
   "execution_count": 3,
   "metadata": {
    "collapsed": false
   },
   "outputs": [],
   "source": [
    "initialAUM = 1e8\n",
    "\n",
    "initialAllocation = {\n",
    "    'Master' : 0.08,\n",
    "    'IssuerA' : 0.1,\n",
    "    'IssuerB' : 0.05,\n",
    "    'IssuerC' : 0,\n",
    "    'CreditFund' : 0.2,\n",
    "    'DPGE' : 0.2,\n",
    "}\n",
    "\n",
    "# Annual Fees\n",
    "Fee = {\n",
    "    'Adm' : 0.008,\n",
    "    'Performance' : 0.15,\n",
    "}\n",
    "\n",
    "#Percentage of Annual CDI\n",
    "\n",
    "ReturnRates = {\n",
    "    'IssuerA' : 1.05,\n",
    "    'IssuerB' : 1.1,\n",
    "    'IssuerC' : 1.2,\n",
    "    'CreditFund' : 1.045,\n",
    "    'DPGE' : 1.07,\n",
    "    'Cash' : 0.999,\n",
    "}"
   ]
  },
  {
   "cell_type": "code",
   "execution_count": 4,
   "metadata": {
    "collapsed": false
   },
   "outputs": [],
   "source": [
    "returns['CDI'] = (returns['CDIAnnual'] + 1.0) ** (1.0/252.0) - 1.0\n",
    "\n",
    "for asset in ReturnRates.keys():\n",
    "    returns[asset] = (returns['CDIAnnual'] * ReturnRates[asset] + 1) ** (1/252) - 1\n",
    "\n",
    "    \n",
    "# returns['IssuerA'] = (returns['CDIAnnual'] * ReturnRates['IssuerA'] + 1) ** (1/252) - 1"
   ]
  },
  {
   "cell_type": "code",
   "execution_count": 5,
   "metadata": {
    "collapsed": false
   },
   "outputs": [
    {
     "data": {
      "text/plain": [
       "<matplotlib.axes._subplots.AxesSubplot at 0x112499ac8>"
      ]
     },
     "execution_count": 5,
     "metadata": {},
     "output_type": "execute_result"
    },
    {
     "data": {
      "image/png": "[encoded data removed]",
      "text/plain": [
       "<matplotlib.figure.Figure at 0x11248ff60>"
      ]
     },
     "metadata": {},
     "output_type": "display_data"
    }
   ],
   "source": [
    "returns.plot()"
   ]
  },
  {
   "cell_type": "markdown",
   "metadata": {},
   "source": [
    "Plan:\n",
    "\n",
    "* Reproduce The simulation\n",
    "* bootstrap the risk return series\n",
    "* Reapply simulation"
   ]
  }
 ],
 "metadata": {
  "kernelspec": {
   "display_name": "Python 3",
   "language": "python",
   "name": "python3"
  },
  "language_info": {
   "codemirror_mode": {
    "name": "ipython",
    "version": 3
   },
   "file_extension": ".py",
   "mimetype": "text/x-python",
   "name": "python",
   "nbconvert_exporter": "python",
   "pygments_lexer": "ipython3",
   "version": "3.5.1"
  }
 },
 "nbformat": 4,
 "nbformat_minor": 0
}
